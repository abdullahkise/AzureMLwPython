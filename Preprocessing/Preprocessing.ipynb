{
  "cells": [
    {
      "cell_type": "markdown",
      "source": [
        "# Preprocessing\r\n",
        "\r\n",
        "* Veri keşfi\r\n",
        "* Tekrarlı kayıları giderelim\r\n",
        "* Null kayıtlardan kurtulalım.\r\n",
        "* Temel istatistiklere bakalım.\r\n",
        "* Tahmin için kullanılacak kolonları seçelim.\r\n",
        "* Koralasyonu inceleyelim."
      ],
      "metadata": {
        "nteract": {
          "transient": {
            "deleting": false
          }
        }
      }
    },
    {
      "cell_type": "code",
      "source": [
        "import numpy as np\r\n",
        "import pandas as pd"
      ],
      "outputs": [],
      "execution_count": 1,
      "metadata": {
        "jupyter": {
          "source_hidden": false,
          "outputs_hidden": false
        },
        "nteract": {
          "transient": {
            "deleting": false
          }
        },
        "gather": {
          "logged": 1675427213880
        }
      }
    },
    {
      "cell_type": "markdown",
      "source": [
        "## CSV dosyasını okuyalım"
      ],
      "metadata": {
        "nteract": {
          "transient": {
            "deleting": false
          }
        }
      }
    },
    {
      "cell_type": "code",
      "source": [
        "df = pd.read_csv(\"./Raw_Meşrubat_Satışları.csv\")\r\n",
        "\r\n",
        "df.head()\r\n",
        "df.columns\r\n",
        "df.shape\r\n",
        "df.dtypes #df.info\r\n",
        "\r\n",
        "print(\"{} satır {} kolon\".format(*df.shape)) #squence unpacking"
      ],
      "outputs": [
        {
          "output_type": "stream",
          "name": "stdout",
          "text": "32 satır 7 kolon\n"
        }
      ],
      "execution_count": 2,
      "metadata": {
        "jupyter": {
          "source_hidden": false,
          "outputs_hidden": false
        },
        "nteract": {
          "transient": {
            "deleting": false
          }
        },
        "gather": {
          "logged": 1675427214171
        }
      }
    },
    {
      "cell_type": "markdown",
      "source": [
        "## Tekrarlı kayıtları temizleyelim"
      ],
      "metadata": {
        "nteract": {
          "transient": {
            "deleting": false
          }
        }
      }
    },
    {
      "cell_type": "code",
      "source": [
        "df.nunique() #benzersiz kayırların adedi\r\n",
        "df.duplicated() #tekrar edenler Her satır için T/F döner\r\n",
        "df.duplicated().any()\r\n",
        "\r\n",
        "#\r\n",
        "df[df.duplicated()] #tekrar eden satır.\r\n",
        "\r\n",
        "#\r\n",
        "df.query(\"Tarih == '2019-07-06'\")\r\n",
        "\r\n",
        "#drop edelim\r\n",
        "df = df.drop_duplicates() #orjinalini etkilemez\r\n",
        "\r\n",
        "#kolon bazlı tekrarlı var mı?\r\n",
        "df.duplicated(subset=[\"Tarih\"]).any()"
      ],
      "outputs": [
        {
          "output_type": "execute_result",
          "execution_count": 3,
          "data": {
            "text/plain": "False"
          },
          "metadata": {}
        }
      ],
      "execution_count": 3,
      "metadata": {
        "jupyter": {
          "source_hidden": false,
          "outputs_hidden": false
        },
        "nteract": {
          "transient": {
            "deleting": false
          }
        },
        "gather": {
          "logged": 1675427214365
        }
      }
    },
    {
      "cell_type": "markdown",
      "source": [
        "## NULL değerleri giderelim"
      ],
      "metadata": {
        "nteract": {
          "transient": {
            "deleting": false
          }
        }
      }
    },
    {
      "cell_type": "code",
      "source": [
        "df.isna().any() #hangi kolonda null değer var\r\n",
        "df.isna().sum() #hangi kolonda kaç adet null değer var\r\n",
        "\r\n",
        "#\r\n",
        "'''\r\n",
        "#grafikle görebilirsin:\r\n",
        "import missingno\r\n",
        "#missingno.matrix(df)\r\n",
        "'''\r\n",
        "\r\n",
        "df.query(\"Tarih.isna()\",engine='python') #.index ile sıra numarası alınabilir.\r\n",
        "#Burada faydalı bilgiler var. drop diyemeyiz."
      ],
      "outputs": [
        {
          "output_type": "execute_result",
          "execution_count": 4,
          "data": {
            "text/plain": "  Tarih Lokasyon  Limon  Portakal  Sıcaklık  Broşür  Fiyat\n8   NaN     Plaj     86        82        28   113.0    5.0",
            "text/html": "<div>\n<style scoped>\n    .dataframe tbody tr th:only-of-type {\n        vertical-align: middle;\n    }\n\n    .dataframe tbody tr th {\n        vertical-align: top;\n    }\n\n    .dataframe thead th {\n        text-align: right;\n    }\n</style>\n<table border=\"1\" class=\"dataframe\">\n  <thead>\n    <tr style=\"text-align: right;\">\n      <th></th>\n      <th>Tarih</th>\n      <th>Lokasyon</th>\n      <th>Limon</th>\n      <th>Portakal</th>\n      <th>Sıcaklık</th>\n      <th>Broşür</th>\n      <th>Fiyat</th>\n    </tr>\n  </thead>\n  <tbody>\n    <tr>\n      <th>8</th>\n      <td>NaN</td>\n      <td>Plaj</td>\n      <td>86</td>\n      <td>82</td>\n      <td>28</td>\n      <td>113.0</td>\n      <td>5.0</td>\n    </tr>\n  </tbody>\n</table>\n</div>"
          },
          "metadata": {}
        }
      ],
      "execution_count": 4,
      "metadata": {
        "jupyter": {
          "source_hidden": false,
          "outputs_hidden": false
        },
        "nteract": {
          "transient": {
            "deleting": false
          }
        },
        "gather": {
          "logged": 1675427214499
        }
      }
    },
    {
      "cell_type": "code",
      "source": [
        "# Tarihin ne olabileceğine bakalım\r\n",
        "#df.Tarih#.sort_values(ascending=True)#.iloc[0:10] #NaN en sona atanıyor.\r\n",
        "df.Tarih.sort_index().head(10) #8. indexte tarih boş. muhtemel tarih 2019-07-08\r\n",
        "\r\n",
        "#2019-07-08 böyle bir tarih varmı? \r\n",
        "df.query(\"Tarih == '2019-07-08'\").__len__() #satır gelmedi."
      ],
      "outputs": [
        {
          "output_type": "execute_result",
          "execution_count": 5,
          "data": {
            "text/plain": "0"
          },
          "metadata": {}
        }
      ],
      "execution_count": 5,
      "metadata": {
        "jupyter": {
          "source_hidden": false,
          "outputs_hidden": false
        },
        "nteract": {
          "transient": {
            "deleting": false
          }
        },
        "gather": {
          "logged": 1675427214639
        }
      }
    },
    {
      "cell_type": "markdown",
      "source": [
        "### Null değerleri dolduralım\r\n",
        "* Tarihsel alanda 2019-07-08 tarihini verelim\r\n",
        "* Sayısal olan Broşür alanında o alanın ortalama değerini atayalım."
      ],
      "metadata": {
        "nteract": {
          "transient": {
            "deleting": false
          }
        }
      }
    },
    {
      "cell_type": "code",
      "source": [
        "#null değerleri silmek için\r\n",
        "#df.dropna(axis=0, how='any') #varsayılan değerledir. herhanfi bir null varsa satırı siler.\r\n",
        "\r\n",
        "#null değerleri doldurmak için\r\n",
        "df.fillna({\r\n",
        "            \"Tarih\":\"2019-07-08\",\r\n",
        "            \"Broşür\":df.Broşür.mean(skipna=True) #varsayılan NULL değer görmezden gelinir.\r\n",
        "          }\r\n",
        "          ,inplace=True) #orjinalini etkilemez.\r\n",
        "\r\n",
        "#\r\n",
        "df.isnull().any().any() #tabloda hiç null var mı?"
      ],
      "outputs": [
        {
          "output_type": "execute_result",
          "execution_count": 6,
          "data": {
            "text/plain": "False"
          },
          "metadata": {}
        }
      ],
      "execution_count": 6,
      "metadata": {
        "jupyter": {
          "source_hidden": false,
          "outputs_hidden": false
        },
        "nteract": {
          "transient": {
            "deleting": false
          }
        },
        "gather": {
          "logged": 1675427214768
        }
      }
    },
    {
      "cell_type": "markdown",
      "source": [
        "## Tahmin için gerekli kolonları oluşturalım\r\n",
        "* Tarih kolonu yerine gün adını alalım.\r\n",
        "* Limon ve Portakal satışlarını toplayıp Satış kolonu üretelim.\r\n",
        "* Çıkarım yapmak için isteyeceğimiz kolonların dışında kalanları kaldıralım"
      ],
      "metadata": {
        "nteract": {
          "transient": {
            "deleting": false
          }
        }
      }
    },
    {
      "cell_type": "code",
      "source": [
        "df.dtypes #tarih kolonu datetime değil. astype ile çevirebiliriz. fakat bunun yerine pd.to_datetime kullanacağız.\r\n",
        "\r\n",
        "#1. yöntem kolon ekleme\r\n",
        "df[\"Gün\"] = pd.to_datetime(df.Tarih).dt.strftime(\"%A\") #dt modulu\r\n",
        "#tahminlemede gün adını isteyeceğiz haftanın gün sırası lazım değil\r\n",
        "df[\"HaftanınGünü\"] = pd.to_datetime(df.Tarih).dt.dayofweek #0 pazartesidir. \r\n",
        "\r\n",
        "#2. yöntem kolon ekleme\r\n",
        "df.eval(\"Satış = Limon + Portakal\", \r\n",
        "        inplace=True) #virgül koymadan alt satıra geçerek yeni kolonar üretelebilir.\r\n",
        "\r\n",
        "\r\n",
        "#Çıkarım yapacağımız kolonlar kalsın diğerlerini kaldıralım.\r\n",
        "df.drop(columns=[\"Tarih\",\"Limon\",\"Portakal\",\"HaftanınGünü\"],\r\n",
        "        inplace=True)\r\n",
        "\r\n",
        "df.head(3)\r\n"
      ],
      "outputs": [
        {
          "output_type": "execute_result",
          "execution_count": 7,
          "data": {
            "text/plain": "  Lokasyon  Sıcaklık  Broşür  Fiyat        Gün  Satış\n0     Park        22    90.0    2.5     Monday    137\n1     Park        23    90.0    5.0    Tuesday    139\n2     Park        22   104.0    5.0  Wednesday    148",
            "text/html": "<div>\n<style scoped>\n    .dataframe tbody tr th:only-of-type {\n        vertical-align: middle;\n    }\n\n    .dataframe tbody tr th {\n        vertical-align: top;\n    }\n\n    .dataframe thead th {\n        text-align: right;\n    }\n</style>\n<table border=\"1\" class=\"dataframe\">\n  <thead>\n    <tr style=\"text-align: right;\">\n      <th></th>\n      <th>Lokasyon</th>\n      <th>Sıcaklık</th>\n      <th>Broşür</th>\n      <th>Fiyat</th>\n      <th>Gün</th>\n      <th>Satış</th>\n    </tr>\n  </thead>\n  <tbody>\n    <tr>\n      <th>0</th>\n      <td>Park</td>\n      <td>22</td>\n      <td>90.0</td>\n      <td>2.5</td>\n      <td>Monday</td>\n      <td>137</td>\n    </tr>\n    <tr>\n      <th>1</th>\n      <td>Park</td>\n      <td>23</td>\n      <td>90.0</td>\n      <td>5.0</td>\n      <td>Tuesday</td>\n      <td>139</td>\n    </tr>\n    <tr>\n      <th>2</th>\n      <td>Park</td>\n      <td>22</td>\n      <td>104.0</td>\n      <td>5.0</td>\n      <td>Wednesday</td>\n      <td>148</td>\n    </tr>\n  </tbody>\n</table>\n</div>"
          },
          "metadata": {}
        }
      ],
      "execution_count": 7,
      "metadata": {
        "jupyter": {
          "source_hidden": false,
          "outputs_hidden": false
        },
        "nteract": {
          "transient": {
            "deleting": false
          }
        },
        "gather": {
          "logged": 1675427214904
        }
      }
    },
    {
      "cell_type": "markdown",
      "source": [
        "### Kolonları sıralanmasını değiştirelim."
      ],
      "metadata": {
        "nteract": {
          "transient": {
            "deleting": false
          }
        }
      }
    },
    {
      "cell_type": "code",
      "source": [
        "#df.columns.tolist()\r\n",
        "yeniKolonSirasi = ['Gün','Lokasyon', 'Sıcaklık', 'Broşür', 'Fiyat', 'Satış']\r\n",
        "df = df[yeniKolonSirasi]\r\n",
        "\r\n",
        "df.head(1)"
      ],
      "outputs": [
        {
          "output_type": "execute_result",
          "execution_count": 8,
          "data": {
            "text/plain": "      Gün Lokasyon  Sıcaklık  Broşür  Fiyat  Satış\n0  Monday     Park        22    90.0    2.5    137",
            "text/html": "<div>\n<style scoped>\n    .dataframe tbody tr th:only-of-type {\n        vertical-align: middle;\n    }\n\n    .dataframe tbody tr th {\n        vertical-align: top;\n    }\n\n    .dataframe thead th {\n        text-align: right;\n    }\n</style>\n<table border=\"1\" class=\"dataframe\">\n  <thead>\n    <tr style=\"text-align: right;\">\n      <th></th>\n      <th>Gün</th>\n      <th>Lokasyon</th>\n      <th>Sıcaklık</th>\n      <th>Broşür</th>\n      <th>Fiyat</th>\n      <th>Satış</th>\n    </tr>\n  </thead>\n  <tbody>\n    <tr>\n      <th>0</th>\n      <td>Monday</td>\n      <td>Park</td>\n      <td>22</td>\n      <td>90.0</td>\n      <td>2.5</td>\n      <td>137</td>\n    </tr>\n  </tbody>\n</table>\n</div>"
          },
          "metadata": {}
        }
      ],
      "execution_count": 8,
      "metadata": {
        "jupyter": {
          "source_hidden": false,
          "outputs_hidden": false
        },
        "nteract": {
          "transient": {
            "deleting": false
          }
        },
        "gather": {
          "logged": 1675427215042
        }
      }
    },
    {
      "cell_type": "markdown",
      "source": [
        "## Temel İstatistiklere Bakalım"
      ],
      "metadata": {
        "nteract": {
          "transient": {
            "deleting": false
          }
        }
      }
    },
    {
      "cell_type": "code",
      "source": [
        "df.describe().T\r\n",
        "\r\n",
        "#\r\n",
        "#önceki versiyonda .style.highlight_between(left=0.3, right = 0.99, color='green') kullanılırdı.\r\n",
        "df.corr().style.applymap(lambda v: 'background-color: green;color: white;' if v>0.2 else None)\\\r\n",
        "               .applymap(lambda v: 'background-color: red;color: white;' if v<-0.2 else None)\\\r\n",
        "               .applymap(lambda v: 'opacity: 20%;' if v==1 else None)             "
      ],
      "outputs": [
        {
          "output_type": "execute_result",
          "execution_count": 9,
          "data": {
            "text/plain": "<pandas.io.formats.style.Styler at 0x7f71ddf1fe50>",
            "text/html": "<style  type=\"text/css\" >\n#T_0b14707e_a3be_11ed_b258_3fe2d2cebfe1row0_col0,#T_0b14707e_a3be_11ed_b258_3fe2d2cebfe1row1_col1,#T_0b14707e_a3be_11ed_b258_3fe2d2cebfe1row2_col2,#T_0b14707e_a3be_11ed_b258_3fe2d2cebfe1row3_col3{\n            background-color:  green;\n            color:  white;\n            opacity:  20%;\n        }#T_0b14707e_a3be_11ed_b258_3fe2d2cebfe1row0_col1,#T_0b14707e_a3be_11ed_b258_3fe2d2cebfe1row0_col3,#T_0b14707e_a3be_11ed_b258_3fe2d2cebfe1row1_col0,#T_0b14707e_a3be_11ed_b258_3fe2d2cebfe1row1_col3,#T_0b14707e_a3be_11ed_b258_3fe2d2cebfe1row3_col0,#T_0b14707e_a3be_11ed_b258_3fe2d2cebfe1row3_col1{\n            background-color:  green;\n            color:  white;\n        }#T_0b14707e_a3be_11ed_b258_3fe2d2cebfe1row2_col3,#T_0b14707e_a3be_11ed_b258_3fe2d2cebfe1row3_col2{\n            background-color:  red;\n            color:  white;\n        }</style><table id=\"T_0b14707e_a3be_11ed_b258_3fe2d2cebfe1\" ><thead>    <tr>        <th class=\"blank level0\" ></th>        <th class=\"col_heading level0 col0\" >Sıcaklık</th>        <th class=\"col_heading level0 col1\" >Broşür</th>        <th class=\"col_heading level0 col2\" >Fiyat</th>        <th class=\"col_heading level0 col3\" >Satış</th>    </tr></thead><tbody>\n                <tr>\n                        <th id=\"T_0b14707e_a3be_11ed_b258_3fe2d2cebfe1level0_row0\" class=\"row_heading level0 row0\" >Sıcaklık</th>\n                        <td id=\"T_0b14707e_a3be_11ed_b258_3fe2d2cebfe1row0_col0\" class=\"data row0 col0\" >1.000000</td>\n                        <td id=\"T_0b14707e_a3be_11ed_b258_3fe2d2cebfe1row0_col1\" class=\"data row0 col1\" >0.314423</td>\n                        <td id=\"T_0b14707e_a3be_11ed_b258_3fe2d2cebfe1row0_col2\" class=\"data row0 col2\" >0.030857</td>\n                        <td id=\"T_0b14707e_a3be_11ed_b258_3fe2d2cebfe1row0_col3\" class=\"data row0 col3\" >0.604631</td>\n            </tr>\n            <tr>\n                        <th id=\"T_0b14707e_a3be_11ed_b258_3fe2d2cebfe1level0_row1\" class=\"row_heading level0 row1\" >Broşür</th>\n                        <td id=\"T_0b14707e_a3be_11ed_b258_3fe2d2cebfe1row1_col0\" class=\"data row1 col0\" >0.314423</td>\n                        <td id=\"T_0b14707e_a3be_11ed_b258_3fe2d2cebfe1row1_col1\" class=\"data row1 col1\" >1.000000</td>\n                        <td id=\"T_0b14707e_a3be_11ed_b258_3fe2d2cebfe1row1_col2\" class=\"data row1 col2\" >0.064502</td>\n                        <td id=\"T_0b14707e_a3be_11ed_b258_3fe2d2cebfe1row1_col3\" class=\"data row1 col3\" >0.801649</td>\n            </tr>\n            <tr>\n                        <th id=\"T_0b14707e_a3be_11ed_b258_3fe2d2cebfe1level0_row2\" class=\"row_heading level0 row2\" >Fiyat</th>\n                        <td id=\"T_0b14707e_a3be_11ed_b258_3fe2d2cebfe1row2_col0\" class=\"data row2 col0\" >0.030857</td>\n                        <td id=\"T_0b14707e_a3be_11ed_b258_3fe2d2cebfe1row2_col1\" class=\"data row2 col1\" >0.064502</td>\n                        <td id=\"T_0b14707e_a3be_11ed_b258_3fe2d2cebfe1row2_col2\" class=\"data row2 col2\" >1.000000</td>\n                        <td id=\"T_0b14707e_a3be_11ed_b258_3fe2d2cebfe1row2_col3\" class=\"data row2 col3\" >-0.248873</td>\n            </tr>\n            <tr>\n                        <th id=\"T_0b14707e_a3be_11ed_b258_3fe2d2cebfe1level0_row3\" class=\"row_heading level0 row3\" >Satış</th>\n                        <td id=\"T_0b14707e_a3be_11ed_b258_3fe2d2cebfe1row3_col0\" class=\"data row3 col0\" >0.604631</td>\n                        <td id=\"T_0b14707e_a3be_11ed_b258_3fe2d2cebfe1row3_col1\" class=\"data row3 col1\" >0.801649</td>\n                        <td id=\"T_0b14707e_a3be_11ed_b258_3fe2d2cebfe1row3_col2\" class=\"data row3 col2\" >-0.248873</td>\n                        <td id=\"T_0b14707e_a3be_11ed_b258_3fe2d2cebfe1row3_col3\" class=\"data row3 col3\" >1.000000</td>\n            </tr>\n    </tbody></table>"
          },
          "metadata": {}
        }
      ],
      "execution_count": 9,
      "metadata": {
        "jupyter": {
          "source_hidden": false,
          "outputs_hidden": false
        },
        "nteract": {
          "transient": {
            "deleting": false
          }
        },
        "gather": {
          "logged": 1675427215260
        }
      }
    },
    {
      "cell_type": "markdown",
      "source": [
        "## Görselleştirme"
      ],
      "metadata": {
        "nteract": {
          "transient": {
            "deleting": false
          }
        }
      }
    },
    {
      "cell_type": "code",
      "source": [
        "#DataFrame üzerinden plot ile\r\n",
        "df.plot.scatter(\"Sıcaklık\",\"Satış\")\r\n",
        "\r\n",
        "#\r\n",
        "#df.boxplot(column=\"Satış\",by=\"Lokasyon\")\r\n",
        "df.boxplot(column=\"Satış\",by=\"Gün\")"
      ],
      "outputs": [],
      "execution_count": null,
      "metadata": {
        "jupyter": {
          "source_hidden": false,
          "outputs_hidden": false
        },
        "nteract": {
          "transient": {
            "deleting": false
          }
        },
        "gather": {
          "logged": 1675427215619
        }
      }
    },
    {
      "cell_type": "code",
      "source": [
        "#Grafik çizimini bir fonksiyona bağlayalım.\r\n",
        "def dagilimGrafikleriCiz(x,y=\"Satış\"):\r\n",
        "    plt.scatter(df[x], df[y])\r\n",
        "    \r\n",
        "    #----------\r\n",
        "    w,b = np.polyfit(df[x], df[y], deg=1)\r\n",
        "    f = lambda X:w*X + b\r\n",
        "\r\n",
        "    plt.plot(df[x],f(df[x]),color='red')\r\n",
        "    #----------\r\n",
        "    plt.show()\r\n",
        "\r\n",
        "#-------\r\n",
        "dagilimGrafikleriCiz(\"Sıcaklık\",\"Satış\")\r\n"
      ],
      "outputs": [],
      "execution_count": null,
      "metadata": {
        "jupyter": {
          "source_hidden": false,
          "outputs_hidden": false
        },
        "nteract": {
          "transient": {
            "deleting": false
          }
        },
        "gather": {
          "logged": 1675438363278
        }
      }
    },
    {
      "cell_type": "code",
      "source": [
        "plt.style.use(\"seaborn\") #plt.style.available\r\n",
        "\r\n",
        "#\r\n",
        "fig, axs = plt.subplots(nrows=2, ncols=1, figsize=(16,6), sharex=True)\r\n",
        "\r\n",
        "axs[0].hist(df.Broşür)\r\n",
        "axs[1].boxplot(df.Broşür, vert=False, showmeans=True)\r\n",
        "\r\n",
        "#axs[1].axis(\"off\")\r\n",
        "axs[1].get_yaxis().set_visible(False)\r\n",
        "\r\n",
        "plt.text(x=df.Broşür.mean(), y=1, s=f\" {df.Broşür.mean():,.2f}\")\r\n",
        "\r\n",
        "plt.show()"
      ],
      "outputs": [],
      "execution_count": null,
      "metadata": {
        "jupyter": {
          "source_hidden": false,
          "outputs_hidden": false
        },
        "nteract": {
          "transient": {
            "deleting": false
          }
        },
        "gather": {
          "logged": 1675427912432
        }
      }
    },
    {
      "cell_type": "markdown",
      "source": [
        "### Eğitim için gerekli verileri kaydedelim."
      ],
      "metadata": {
        "nteract": {
          "transient": {
            "deleting": false
          }
        }
      }
    },
    {
      "cell_type": "code",
      "source": [
        "import os\r\n",
        "\r\n",
        "#klasor oluştur\r\n",
        "os.makedirs(\"../Training\",exist_ok=True)\r\n",
        "\r\n",
        "#o klasore kaydet\r\n",
        "df.to_csv(\"../Training/dataForTraining.csv\",index=False)\r\n",
        "\r\n",
        "#var mı kontrol et\r\n",
        "os.path.exists(\"../Training/dataForTraining.csv\")"
      ],
      "outputs": [
        {
          "output_type": "execute_result",
          "execution_count": 13,
          "data": {
            "text/plain": "True"
          },
          "metadata": {}
        }
      ],
      "execution_count": 13,
      "metadata": {
        "jupyter": {
          "source_hidden": false,
          "outputs_hidden": false
        },
        "nteract": {
          "transient": {
            "deleting": false
          }
        },
        "gather": {
          "logged": 1675427216197
        }
      }
    }
  ],
  "metadata": {
    "kernelspec": {
      "name": "python38-azureml",
      "language": "python",
      "display_name": "Python 3.8 - AzureML"
    },
    "language_info": {
      "name": "python",
      "version": "3.8.10",
      "mimetype": "text/x-python",
      "codemirror_mode": {
        "name": "ipython",
        "version": 3
      },
      "pygments_lexer": "ipython3",
      "nbconvert_exporter": "python",
      "file_extension": ".py"
    },
    "kernel_info": {
      "name": "python38-azureml"
    },
    "nteract": {
      "version": "nteract-front-end@1.0.0"
    },
    "microsoft": {
      "host": {
        "AzureML": {
          "notebookHasBeenCompleted": true
        }
      }
    }
  },
  "nbformat": 4,
  "nbformat_minor": 2
}