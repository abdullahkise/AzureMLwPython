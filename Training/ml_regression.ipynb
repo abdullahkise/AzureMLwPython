{
  "cells": [
    {
      "attachments": {},
      "cell_type": "markdown",
      "source": [
        "# Machine Learning (Regression)\n",
        "* Eğitmek için gerekli veriyi çekelim\n",
        "* Encoding\n",
        "* Training\n",
        "* Prediction"
      ],
      "metadata": {
        "nteract": {
          "transient": {
            "deleting": false
          }
        }
      }
    },
    {
      "cell_type": "markdown",
      "source": [
        "## Veri kümesine bağlanalım"
      ],
      "metadata": {}
    },
    {
      "cell_type": "code",
      "source": [
        "import pandas as pd\n",
        "import numpy as np"
      ],
      "outputs": [],
      "execution_count": 1,
      "metadata": {
        "gather": {
          "logged": 1675415863626
        }
      }
    },
    {
      "cell_type": "code",
      "source": [
        "df = pd.read_csv(\"./dataForTraining.csv\")\r\n",
        "df.head(3)"
      ],
      "outputs": [
        {
          "output_type": "execute_result",
          "execution_count": 2,
          "data": {
            "text/plain": "         Gün Lokasyon  Sıcaklık  Broşür  Fiyat  Satış\n0     Monday     Park        22    90.0    2.5    137\n1    Tuesday     Park        23    90.0    5.0    139\n2  Wednesday     Park        22   104.0    5.0    148",
            "text/html": "<div>\n<style scoped>\n    .dataframe tbody tr th:only-of-type {\n        vertical-align: middle;\n    }\n\n    .dataframe tbody tr th {\n        vertical-align: top;\n    }\n\n    .dataframe thead th {\n        text-align: right;\n    }\n</style>\n<table border=\"1\" class=\"dataframe\">\n  <thead>\n    <tr style=\"text-align: right;\">\n      <th></th>\n      <th>Gün</th>\n      <th>Lokasyon</th>\n      <th>Sıcaklık</th>\n      <th>Broşür</th>\n      <th>Fiyat</th>\n      <th>Satış</th>\n    </tr>\n  </thead>\n  <tbody>\n    <tr>\n      <th>0</th>\n      <td>Monday</td>\n      <td>Park</td>\n      <td>22</td>\n      <td>90.0</td>\n      <td>2.5</td>\n      <td>137</td>\n    </tr>\n    <tr>\n      <th>1</th>\n      <td>Tuesday</td>\n      <td>Park</td>\n      <td>23</td>\n      <td>90.0</td>\n      <td>5.0</td>\n      <td>139</td>\n    </tr>\n    <tr>\n      <th>2</th>\n      <td>Wednesday</td>\n      <td>Park</td>\n      <td>22</td>\n      <td>104.0</td>\n      <td>5.0</td>\n      <td>148</td>\n    </tr>\n  </tbody>\n</table>\n</div>"
          },
          "metadata": {}
        }
      ],
      "execution_count": 2,
      "metadata": {
        "gather": {
          "logged": 1675415863871
        }
      }
    },
    {
      "attachments": {},
      "cell_type": "markdown",
      "source": [
        "## Encoding ve Scaling\n",
        "* Gün için **Label (Ordinal) Encoding**\n",
        "    * `df.Gün.asype(\"category\")` sonra `df.Gün.cat.codes`\n",
        "    * `sklearn.preprocessing` altında `OrdinalEncoder`\n",
        "    * Günler cycle olduğu için açısal değerler üretelim. **sin veya cos** gibi.\n",
        "* Lokasyon için **OneHotEncoding**\n",
        "    * `pd.get_dummies(df,columns=[\"Lokasyon\"])`\n",
        "    * `sklearn.preprocessing` altında `OneHotEncoder`\n",
        "* Sıcaklık için **MinMaxScaler**\n",
        "    * `sklearn.preprocessing` altında `MinMaxScaler`\n",
        "* Broşür ve Fiyat için **StandartScaler**\n",
        "    * `sklearn.preprocessing` altında `StandardScaler`"
      ],
      "metadata": {}
    },
    {
      "cell_type": "markdown",
      "source": [
        "### Pandas ile OneHotEncoding ve LabelEncoding\r\n",
        "* sadece alternatifi görelim. Zaten hepsini sklearn ile yapacağız."
      ],
      "metadata": {}
    },
    {
      "cell_type": "code",
      "source": [
        "#Label Encoding\n",
        "#df.astype({\"Gün\":\"category\"}).Gün.cat.codes\n",
        "df.Gün.astype(\"category\").cat.codes\n",
        "\n",
        "#OneHotEncoding\n",
        "pd.get_dummies(df,columns=[\"Lokasyon\"])\n",
        "\n",
        "#\n",
        "pass\n"
      ],
      "outputs": [],
      "execution_count": 3,
      "metadata": {
        "jupyter": {
          "source_hidden": false,
          "outputs_hidden": false
        },
        "nteract": {
          "transient": {
            "deleting": false
          }
        },
        "gather": {
          "logged": 1675415864137
        }
      }
    },
    {
      "cell_type": "markdown",
      "source": [
        "## Sklearn ile ColumnTransformer kullanarak Encoding ve Scaling\r\n",
        "* Encoder\r\n",
        "* ColumnTransformer\r\n",
        "    * Tüm dönüşümleri bir arada tutar.\r\n",
        "    * ColumnTransformer belirtilen kolonlara belirtilen Encoderları uygular. Custom bir fonksiyon **FunctionTransformer** ile verilebilir.\r\n",
        "    * Kolon adı veya sırası liste şeklinde belirilir. Ad verilirse çıkarım yaparken de bu ad beklenir.\r\n",
        "    * Belirtilen kolonlar df olarak Encodera gönderilir. Belirilen kolon yerine dönüşüm yapılır."
      ],
      "metadata": {
        "nteract": {
          "transient": {
            "deleting": false
          }
        }
      }
    },
    {
      "cell_type": "code",
      "source": [
        "from sklearn.preprocessing import OrdinalEncoder, OneHotEncoder,MinMaxScaler,StandardScaler, FunctionTransformer\r\n",
        "from sklearn.compose import ColumnTransformer"
      ],
      "outputs": [],
      "execution_count": 4,
      "metadata": {
        "jupyter": {
          "source_hidden": false,
          "outputs_hidden": false
        },
        "nteract": {
          "transient": {
            "deleting": false
          }
        },
        "gather": {
          "logged": 1675415864354
        }
      }
    },
    {
      "cell_type": "code",
      "source": [
        "def fnk_CustomTransformer(dfg):\r\n",
        "    #0.adım\r\n",
        "    dfg = dfg.astype(\"category\")\r\n",
        "\r\n",
        "    #1.adım numara verelim\r\n",
        "    #dfg.Gün = dfg.Gün.cat.codes\r\n",
        "\r\n",
        "    #2.adım acısal değer üretelim\r\n",
        "    dfg.Gün = np.sin((dfg.Gün.cat.codes+1) * (2 * np.pi /  7))\r\n",
        "    \r\n",
        "\r\n",
        "    #3.\r\n",
        "    # dfg['GünSin'] = np.sin((dfg.Gün.cat.codes+1) * (2 * np.pi /  7)) \r\n",
        "    # dfg['GünCos'] = np.cos((dfg.Gün.cat.codes+1) * (2 * np.pi /  7)) \r\n",
        "    # dfg = dfg.drop(columns=[\"Gün\"])\r\n",
        "    return dfg"
      ],
      "outputs": [],
      "execution_count": 5,
      "metadata": {
        "jupyter": {
          "source_hidden": false,
          "outputs_hidden": false
        },
        "nteract": {
          "transient": {
            "deleting": false
          }
        },
        "gather": {
          "logged": 1675415864525
        }
      }
    },
    {
      "cell_type": "code",
      "source": [
        "ct_EncodingveScaling = ColumnTransformer(transformers=[\r\n",
        "                                                        #Encoder\r\n",
        "                                                        #(\"ord\",OrdinalEncoder(),[\"Gün\"]), #döngü olduğu için açısal değerle de deneyeceğiz.\r\n",
        "                                                        (\"ord\",FunctionTransformer(fnk_CustomTransformer),[\"Gün\"]),\r\n",
        "                                                        \r\n",
        "                                                        (\"ohe\",OneHotEncoder(),[\"Lokasyon\"]),\r\n",
        "                                                        \r\n",
        "                                                        #scaler\r\n",
        "                                                        (\"mms\",MinMaxScaler(),[\"Sıcaklık\"]),\r\n",
        "                                                        (\"sts\",StandardScaler(),[\"Broşür\",\"Fiyat\"])\r\n",
        "                                                      ])\r\n",
        "\r\n",
        "#\r\n",
        "#[:3] #dizi döndüğü için slicer ile 3 satır çağıralım sadece\r\n",
        "pd.DataFrame(ct_EncodingveScaling.fit_transform(df)).head(3)"
      ],
      "outputs": [
        {
          "output_type": "execute_result",
          "execution_count": 6,
          "data": {
            "text/plain": "              0    1    2         3         4         5\n0  9.749279e-01  1.0  0.0  0.000000 -0.982972 -1.950060\n1 -7.818315e-01  1.0  0.0  0.142857 -0.982972 -0.885767\n2 -2.449294e-16  1.0  0.0  0.000000 -0.264975 -0.885767",
            "text/html": "<div>\n<style scoped>\n    .dataframe tbody tr th:only-of-type {\n        vertical-align: middle;\n    }\n\n    .dataframe tbody tr th {\n        vertical-align: top;\n    }\n\n    .dataframe thead th {\n        text-align: right;\n    }\n</style>\n<table border=\"1\" class=\"dataframe\">\n  <thead>\n    <tr style=\"text-align: right;\">\n      <th></th>\n      <th>0</th>\n      <th>1</th>\n      <th>2</th>\n      <th>3</th>\n      <th>4</th>\n      <th>5</th>\n    </tr>\n  </thead>\n  <tbody>\n    <tr>\n      <th>0</th>\n      <td>9.749279e-01</td>\n      <td>1.0</td>\n      <td>0.0</td>\n      <td>0.000000</td>\n      <td>-0.982972</td>\n      <td>-1.950060</td>\n    </tr>\n    <tr>\n      <th>1</th>\n      <td>-7.818315e-01</td>\n      <td>1.0</td>\n      <td>0.0</td>\n      <td>0.142857</td>\n      <td>-0.982972</td>\n      <td>-0.885767</td>\n    </tr>\n    <tr>\n      <th>2</th>\n      <td>-2.449294e-16</td>\n      <td>1.0</td>\n      <td>0.0</td>\n      <td>0.000000</td>\n      <td>-0.264975</td>\n      <td>-0.885767</td>\n    </tr>\n  </tbody>\n</table>\n</div>"
          },
          "metadata": {}
        }
      ],
      "execution_count": 6,
      "metadata": {
        "jupyter": {
          "source_hidden": false,
          "outputs_hidden": false
        },
        "nteract": {
          "transient": {
            "deleting": false
          }
        },
        "gather": {
          "logged": 1675415864701
        }
      }
    },
    {
      "cell_type": "markdown",
      "source": [
        "## Pipeline inşa edelim\r\n",
        "* Bir iş akışı oluşturma imkanı veriyor.\r\n",
        "* Pipeline steps:\r\n",
        "    * Transformer nesnesi: ColumnTransformer\r\n",
        "    * Estimator nesnesi: LinearRegression veya DecisionTreeRegressor"
      ],
      "metadata": {
        "nteract": {
          "transient": {
            "deleting": false
          }
        }
      }
    },
    {
      "cell_type": "code",
      "source": [
        "from sklearn.pipeline import Pipeline\r\n",
        "\r\n",
        "#\r\n",
        "from sklearn.linear_model import LinearRegression\r\n",
        "from sklearn.tree import DecisionTreeRegressor"
      ],
      "outputs": [],
      "execution_count": 7,
      "metadata": {
        "jupyter": {
          "source_hidden": false,
          "outputs_hidden": false
        },
        "nteract": {
          "transient": {
            "deleting": false
          }
        },
        "gather": {
          "logged": 1675415864861
        }
      }
    },
    {
      "cell_type": "code",
      "source": [
        "#1. model eğitimi için\r\n",
        "pl_LR = Pipeline(steps=[\r\n",
        "                            ('preprocessing',ct_EncodingveScaling),\r\n",
        "                            ('lr',LinearRegression(fit_intercept=True))\r\n",
        "                        ])\r\n",
        "\r\n",
        "#2. model eğitimi için\r\n",
        "pl_DTR = Pipeline(steps=[\r\n",
        "                            ('preprocessing',ct_EncodingveScaling),\r\n",
        "                            ('dtr',DecisionTreeRegressor(criterion=\"squared_error\")) #mean squared error\r\n",
        "                        ])"
      ],
      "outputs": [],
      "execution_count": 8,
      "metadata": {
        "jupyter": {
          "source_hidden": false,
          "outputs_hidden": false
        },
        "nteract": {
          "transient": {
            "deleting": false
          }
        },
        "gather": {
          "logged": 1675415864999
        }
      }
    },
    {
      "cell_type": "markdown",
      "source": [
        "## Veriyi Train ve Test olarak ayıralım\r\n",
        "* y = f(X) bulmaya çalışıyoruz. \r\n",
        "* X eğitmek için kullanılan kolonlar y ise tahmin edilecek kolon"
      ],
      "metadata": {
        "nteract": {
          "transient": {
            "deleting": false
          }
        }
      }
    },
    {
      "cell_type": "code",
      "source": [
        "from sklearn.model_selection import train_test_split"
      ],
      "outputs": [],
      "execution_count": 9,
      "metadata": {
        "jupyter": {
          "source_hidden": false,
          "outputs_hidden": false
        },
        "nteract": {
          "transient": {
            "deleting": false
          }
        },
        "gather": {
          "logged": 1675415865131
        }
      }
    },
    {
      "cell_type": "code",
      "source": [
        "#y = f(X)\r\n",
        "X = df.loc[:,df.columns != \"Satış\"]\r\n",
        "y = df.Satış\r\n",
        "\r\n",
        "#split\r\n",
        "X_train, X_test, y_train, y_test = train_test_split(X,y,test_size=0.30, random_state=0)\r\n",
        "\r\n",
        "#\r\n",
        "print(f\"X_train: {len(X_train)}\\nX_test:{len(X_test)}\")"
      ],
      "outputs": [
        {
          "output_type": "stream",
          "name": "stdout",
          "text": "X_train: 21\nX_test:10\n"
        }
      ],
      "execution_count": 10,
      "metadata": {
        "jupyter": {
          "source_hidden": false,
          "outputs_hidden": false
        },
        "nteract": {
          "transient": {
            "deleting": false
          }
        },
        "gather": {
          "logged": 1675415865269
        }
      }
    },
    {
      "cell_type": "markdown",
      "source": [
        "## Pipeline tetikleyip modelleri eğitelim"
      ],
      "metadata": {
        "nteract": {
          "transient": {
            "deleting": false
          }
        }
      }
    },
    {
      "cell_type": "code",
      "source": [
        "#%time\r\n",
        "#model_LR = pl_LR.fit(X_train,y_train)\r\n",
        "#model_DTR = pl_DTR.fit(X_train,y_train)\r\n",
        "\r\n",
        "#\r\n",
        "#birden fazla model eğitilecek ise döngü iyi olabilir.\r\n",
        "egitilmisModeller = []\r\n",
        "for pl in [pl_LR, pl_DTR]:\r\n",
        "    egitilmisModeller.append(pl.fit(X_train, y_train))\r\n",
        "\r\n",
        "\r\n",
        "model_LR = egitilmisModeller[0]\r\n",
        "model_DTR = egitilmisModeller[1]"
      ],
      "outputs": [],
      "execution_count": 11,
      "metadata": {
        "jupyter": {
          "source_hidden": false,
          "outputs_hidden": false
        },
        "nteract": {
          "transient": {
            "deleting": false
          }
        },
        "gather": {
          "logged": 1675415865415
        }
      }
    },
    {
      "cell_type": "markdown",
      "source": [
        "## Eğitilmiş model ile tahminler yapalım"
      ],
      "metadata": {
        "nteract": {
          "transient": {
            "deleting": false
          }
        }
      }
    },
    {
      "cell_type": "code",
      "source": [
        "y_pred_lr = model_LR.predict(X_test)\r\n",
        "y_pred_dtr = model_DTR.predict(X_test)\r\n",
        "\r\n",
        "#sonuçları df olarak gösterelim\r\n",
        "pd.DataFrame(data = zip(y_test,y_pred_lr,y_pred_dtr),\r\n",
        "             columns=[\"y_test\",\"y_pred_lr\",\"y_pred_dtr\"]).head()"
      ],
      "outputs": [
        {
          "output_type": "execute_result",
          "execution_count": 12,
          "data": {
            "text/plain": "   y_test   y_pred_lr  y_pred_dtr\n0     148  146.812416       175.0\n1     139  143.626345       127.0\n2     163  162.118576       168.0\n3     203  195.246092       196.0\n4     145  147.572658       147.0",
            "text/html": "<div>\n<style scoped>\n    .dataframe tbody tr th:only-of-type {\n        vertical-align: middle;\n    }\n\n    .dataframe tbody tr th {\n        vertical-align: top;\n    }\n\n    .dataframe thead th {\n        text-align: right;\n    }\n</style>\n<table border=\"1\" class=\"dataframe\">\n  <thead>\n    <tr style=\"text-align: right;\">\n      <th></th>\n      <th>y_test</th>\n      <th>y_pred_lr</th>\n      <th>y_pred_dtr</th>\n    </tr>\n  </thead>\n  <tbody>\n    <tr>\n      <th>0</th>\n      <td>148</td>\n      <td>146.812416</td>\n      <td>175.0</td>\n    </tr>\n    <tr>\n      <th>1</th>\n      <td>139</td>\n      <td>143.626345</td>\n      <td>127.0</td>\n    </tr>\n    <tr>\n      <th>2</th>\n      <td>163</td>\n      <td>162.118576</td>\n      <td>168.0</td>\n    </tr>\n    <tr>\n      <th>3</th>\n      <td>203</td>\n      <td>195.246092</td>\n      <td>196.0</td>\n    </tr>\n    <tr>\n      <th>4</th>\n      <td>145</td>\n      <td>147.572658</td>\n      <td>147.0</td>\n    </tr>\n  </tbody>\n</table>\n</div>"
          },
          "metadata": {}
        }
      ],
      "execution_count": 12,
      "metadata": {
        "jupyter": {
          "source_hidden": false,
          "outputs_hidden": false
        },
        "nteract": {
          "transient": {
            "deleting": false
          }
        },
        "gather": {
          "logged": 1675415865646
        }
      }
    },
    {
      "cell_type": "markdown",
      "source": [
        "## Evaluate Edelim"
      ],
      "metadata": {
        "nteract": {
          "transient": {
            "deleting": false
          }
        }
      }
    },
    {
      "cell_type": "code",
      "source": [
        "from sklearn.metrics import r2_score, mean_squared_error"
      ],
      "outputs": [],
      "execution_count": 13,
      "metadata": {
        "jupyter": {
          "source_hidden": false,
          "outputs_hidden": false
        },
        "nteract": {
          "transient": {
            "deleting": false
          }
        },
        "gather": {
          "logged": 1675415865898
        }
      }
    },
    {
      "cell_type": "code",
      "source": [
        "print(f\"LR için RMSE {mean_squared_error(y_test,y_pred_lr)**0.5}\")\r\n",
        "print(f\"DTR için RMSE {mean_squared_error(y_test,y_pred_dtr)**0.5}\")\r\n",
        "print()\r\n",
        "\r\n",
        "print(f\"LR için R2 {r2_score(y_test,y_pred_lr)**0.5}\")\r\n",
        "print(f\"DTR için R2 {r2_score(y_test,y_pred_dtr)**0.5}\")\r\n",
        "#LR daha iyi sonuç verdi."
      ],
      "outputs": [
        {
          "output_type": "stream",
          "name": "stdout",
          "text": "LR için RMSE 6.181592244816543\nDTR için RMSE 13.820274961085254\n\nLR için R2 0.9620725489253659\nDTR için R2 0.7924869712019375\n"
        }
      ],
      "execution_count": 14,
      "metadata": {
        "jupyter": {
          "source_hidden": false,
          "outputs_hidden": false
        },
        "nteract": {
          "transient": {
            "deleting": false
          }
        },
        "gather": {
          "logged": 1675415866337
        }
      }
    },
    {
      "cell_type": "markdown",
      "source": [
        "### Model hakkında bilgi alalım"
      ],
      "metadata": {
        "nteract": {
          "transient": {
            "deleting": false
          }
        }
      }
    },
    {
      "cell_type": "code",
      "source": [
        "model_LR.feature_names_in_\r\n",
        "model_LR.named_steps\r\n",
        "\r\n",
        "#y = wX + b\r\n",
        "model_LR._final_estimator #modelin kendisi\r\n",
        "model_LR._final_estimator.coef_ # eğitim yani w katsayıları\r\n",
        "model_LR._final_estimator.intercept_ #y eksenini kestiği nokta yani b\r\n",
        "\r\n",
        "print(f\"y = {model_LR._final_estimator.coef_}*X + {model_LR._final_estimator.intercept_} \")"
      ],
      "outputs": [
        {
          "output_type": "stream",
          "name": "stdout",
          "text": "y = [-3.82158465  0.96242845 -0.96242845 30.23511357 15.0735277  -7.63869363]*X + 138.2329021340975 \n"
        }
      ],
      "execution_count": 15,
      "metadata": {
        "jupyter": {
          "source_hidden": false,
          "outputs_hidden": false
        },
        "nteract": {
          "transient": {
            "deleting": false
          }
        },
        "gather": {
          "logged": 1675415866561
        }
      }
    },
    {
      "cell_type": "markdown",
      "source": [
        " ## Modeli Kaydedelim, diskten okuyalım ve tahmin yapalım"
      ],
      "metadata": {
        "nteract": {
          "transient": {
            "deleting": false
          }
        }
      }
    },
    {
      "cell_type": "code",
      "source": [
        "import joblib\r\n",
        "\r\n",
        "#modeli kaydedelim.\r\n",
        "joblib.dump(model_LR,\"./model_LR.pkl\")"
      ],
      "outputs": [
        {
          "output_type": "execute_result",
          "execution_count": 16,
          "data": {
            "text/plain": "['./model_LR.pkl']"
          },
          "metadata": {}
        }
      ],
      "execution_count": 16,
      "metadata": {
        "jupyter": {
          "source_hidden": false,
          "outputs_hidden": false
        },
        "nteract": {
          "transient": {
            "deleting": false
          }
        },
        "gather": {
          "logged": 1675415866737
        }
      }
    },
    {
      "cell_type": "code",
      "source": [
        "#diskten okuyalım\r\n",
        "model = joblib.load(\"./model_LR.pkl\")"
      ],
      "outputs": [],
      "execution_count": 17,
      "metadata": {
        "jupyter": {
          "source_hidden": false,
          "outputs_hidden": false
        },
        "nteract": {
          "transient": {
            "deleting": false
          }
        },
        "gather": {
          "logged": 1675415866894
        }
      }
    },
    {
      "cell_type": "code",
      "source": [
        "df.head()"
      ],
      "outputs": [
        {
          "output_type": "execute_result",
          "execution_count": 18,
          "data": {
            "text/plain": "         Gün Lokasyon  Sıcaklık  Broşür  Fiyat  Satış\n0     Monday     Park        22    90.0    2.5    137\n1    Tuesday     Park        23    90.0    5.0    139\n2  Wednesday     Park        22   104.0    5.0    148\n3   Thursday     Plaj        25    98.0    5.0    175\n4     Friday     Plaj        26   135.0    5.0    196",
            "text/html": "<div>\n<style scoped>\n    .dataframe tbody tr th:only-of-type {\n        vertical-align: middle;\n    }\n\n    .dataframe tbody tr th {\n        vertical-align: top;\n    }\n\n    .dataframe thead th {\n        text-align: right;\n    }\n</style>\n<table border=\"1\" class=\"dataframe\">\n  <thead>\n    <tr style=\"text-align: right;\">\n      <th></th>\n      <th>Gün</th>\n      <th>Lokasyon</th>\n      <th>Sıcaklık</th>\n      <th>Broşür</th>\n      <th>Fiyat</th>\n      <th>Satış</th>\n    </tr>\n  </thead>\n  <tbody>\n    <tr>\n      <th>0</th>\n      <td>Monday</td>\n      <td>Park</td>\n      <td>22</td>\n      <td>90.0</td>\n      <td>2.5</td>\n      <td>137</td>\n    </tr>\n    <tr>\n      <th>1</th>\n      <td>Tuesday</td>\n      <td>Park</td>\n      <td>23</td>\n      <td>90.0</td>\n      <td>5.0</td>\n      <td>139</td>\n    </tr>\n    <tr>\n      <th>2</th>\n      <td>Wednesday</td>\n      <td>Park</td>\n      <td>22</td>\n      <td>104.0</td>\n      <td>5.0</td>\n      <td>148</td>\n    </tr>\n    <tr>\n      <th>3</th>\n      <td>Thursday</td>\n      <td>Plaj</td>\n      <td>25</td>\n      <td>98.0</td>\n      <td>5.0</td>\n      <td>175</td>\n    </tr>\n    <tr>\n      <th>4</th>\n      <td>Friday</td>\n      <td>Plaj</td>\n      <td>26</td>\n      <td>135.0</td>\n      <td>5.0</td>\n      <td>196</td>\n    </tr>\n  </tbody>\n</table>\n</div>"
          },
          "metadata": {}
        }
      ],
      "execution_count": 18,
      "metadata": {
        "jupyter": {
          "source_hidden": false,
          "outputs_hidden": false
        },
        "nteract": {
          "transient": {
            "deleting": false
          }
        },
        "gather": {
          "logged": 1675415867145
        }
      }
    },
    {
      "cell_type": "code",
      "source": [
        "#tahmin edilecekler\r\n",
        "tahminEdilecekler = pd.DataFrame(data = [\r\n",
        "                                            [\"Monday\",\"Park\",22,90,2.5], #137\r\n",
        "                                            [\"Monday\",\"Park\",22,100,5],\r\n",
        "                                            [\"Monday\",\"Plaj\",22,100,5]\r\n",
        "                                        ],\r\n",
        "                                columns=[\"Gün\",\"Lokasyon\",\"Sıcaklık\",\"Broşür\",\"Fiyat\"]) \r\n",
        "\r\n",
        "\r\n",
        "#\r\n",
        "model.predict(tahminEdilecekler)"
      ],
      "outputs": [
        {
          "output_type": "execute_result",
          "execution_count": 19,
          "data": {
            "text/plain": "array([136.31012803, 136.80754493, 134.88268802])"
          },
          "metadata": {}
        }
      ],
      "execution_count": 19,
      "metadata": {
        "jupyter": {
          "source_hidden": false,
          "outputs_hidden": false
        },
        "nteract": {
          "transient": {
            "deleting": false
          }
        },
        "gather": {
          "logged": 1675415867342
        }
      }
    }
  ],
  "metadata": {
    "kernel_info": {
      "name": "python310-sdkv2"
    },
    "kernelspec": {
      "name": "python310-sdkv2",
      "language": "python",
      "display_name": "Python 3.10 - SDK v2"
    },
    "language_info": {
      "name": "python",
      "version": "3.10.9",
      "mimetype": "text/x-python",
      "codemirror_mode": {
        "name": "ipython",
        "version": 3
      },
      "pygments_lexer": "ipython3",
      "nbconvert_exporter": "python",
      "file_extension": ".py"
    },
    "nteract": {
      "version": "nteract-front-end@1.0.0"
    },
    "vscode": {
      "interpreter": {
        "hash": "916dbcbb3f70747c44a77c7bcd40155683ae19c65e1c03b4aa3499c5328201f1"
      }
    }
  },
  "nbformat": 4,
  "nbformat_minor": 2
}